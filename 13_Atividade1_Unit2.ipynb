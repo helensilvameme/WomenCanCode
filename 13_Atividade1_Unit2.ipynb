{
  "nbformat": 4,
  "nbformat_minor": 0,
  "metadata": {
    "colab": {
      "provenance": [],
      "authorship_tag": "ABX9TyP7Zhba67HhCC8Ao5AUZ6OI",
      "include_colab_link": true
    },
    "kernelspec": {
      "name": "python3",
      "display_name": "Python 3"
    },
    "language_info": {
      "name": "python"
    }
  },
  "cells": [
    {
      "cell_type": "markdown",
      "metadata": {
        "id": "view-in-github",
        "colab_type": "text"
      },
      "source": [
        "<a href=\"https://colab.research.google.com/github/helensilvameme/WomenCanCode/blob/main/13_Atividade1_Unit2.ipynb\" target=\"_parent\"><img src=\"https://colab.research.google.com/assets/colab-badge.svg\" alt=\"Open In Colab\"/></a>"
      ]
    },
    {
      "cell_type": "code",
      "execution_count": 5,
      "metadata": {
        "colab": {
          "base_uri": "https://localhost:8080/"
        },
        "id": "A32qnpYDXJEJ",
        "outputId": "f05fad49-f9d3-4107-e352-55fdae6305ac"
      },
      "outputs": [
        {
          "output_type": "stream",
          "name": "stdout",
          "text": [
            "Dados Originais\n",
            "         Data          Cidade  Temperatura Máxima (°C)  \\\n",
            "0  15/01/2025       São Paulo                     30.5   \n",
            "1  15/01/2025  Rio de Janeiro                     35.0   \n",
            "2  15/01/2025        Curitiba                     24.0   \n",
            "3  15/01/2025    Porto Alegre                     28.0   \n",
            "4  15/01/2025        Salvador                     31.0   \n",
            "\n",
            "   Temperatura Mínima (°C)  Precipitação (mm)  Umidade Relativa (%)  \n",
            "0                     22.0               12.0                  78.0  \n",
            "1                     25.0                NaN                  70.0  \n",
            "2                     18.0                8.0                   NaN  \n",
            "3                     20.0               15.0                  82.0  \n",
            "4                     24.5                NaN                  80.0  \n"
          ]
        }
      ],
      "source": [
        "import pandas as pd\n",
        "\n",
        "# Criando o DataFrame\n",
        "dados = {\n",
        "    \"Data\": [\"15/01/2025\"] * 5,\n",
        "    \"Cidade\": [\"São Paulo\", \"Rio de Janeiro\", \"Curitiba\", \"Porto Alegre\", \"Salvador\"],\n",
        "    \"Temperatura Máxima (°C)\": [30.5, 35.0, 24.0, 28.0, 31.0],\n",
        "    \"Temperatura Mínima (°C)\": [22.0, 25.0, 18.0, 20.0, 24.5],\n",
        "    \"Precipitação (mm)\": [12.0, None, 8.0, 15.0, None],\n",
        "    \"Umidade Relativa (%)\": [78, 70, None, 82, 80]\n",
        "}\n",
        "\n",
        "df = pd.DataFrame(dados)\n",
        "\n",
        "# Exibindo dados\n",
        "print(\"Dados Originais\")\n",
        "print(df)\n",
        "\n"
      ]
    },
    {
      "cell_type": "code",
      "source": [
        "# Identificando valores ausente\n",
        "print(\"\\nVerificando valores ausentes:\")\n",
        "print(df.isnull())\n",
        "print(\"\\nQuantidade de valores ausentes por coluna:\")\n",
        "print(df.isnull().sum())\n",
        "\n"
      ],
      "metadata": {
        "colab": {
          "base_uri": "https://localhost:8080/"
        },
        "id": "P6bkYRbLZhCN",
        "outputId": "bc8ecacc-2732-441c-c6f5-5238e37dc32b"
      },
      "execution_count": 7,
      "outputs": [
        {
          "output_type": "stream",
          "name": "stdout",
          "text": [
            "\n",
            "Verificando valores ausentes:\n",
            "    Data  Cidade  Temperatura Máxima (°C)  Temperatura Mínima (°C)  \\\n",
            "0  False   False                    False                    False   \n",
            "1  False   False                    False                    False   \n",
            "2  False   False                    False                    False   \n",
            "3  False   False                    False                    False   \n",
            "4  False   False                    False                    False   \n",
            "\n",
            "   Amplitude Térmica  Precipitação (mm)  Umidade Relativa (%)  \n",
            "0              False              False                 False  \n",
            "1              False              False                 False  \n",
            "2              False              False                 False  \n",
            "3              False              False                 False  \n",
            "4              False              False                 False  \n",
            "\n",
            "Quantidade de valores ausentes por coluna:\n",
            "Data                       0\n",
            "Cidade                     0\n",
            "Temperatura Máxima (°C)    0\n",
            "Temperatura Mínima (°C)    0\n",
            "Amplitude Térmica          0\n",
            "Precipitação (mm)          0\n",
            "Umidade Relativa (%)       0\n",
            "dtype: int64\n"
          ]
        }
      ]
    },
    {
      "cell_type": "code",
      "source": [
        "# Removendo linhas com valores ausentes\n",
        "df_cleaned = df.dropna()\n",
        "print(\"\\nDados após remover linhas com valores ausentes:\")\n",
        "print(df_cleaned)\n"
      ],
      "metadata": {
        "colab": {
          "base_uri": "https://localhost:8080/"
        },
        "id": "uEbpevOXaK1p",
        "outputId": "afcbe697-03ff-4066-d3ad-70783bf1a26e"
      },
      "execution_count": 10,
      "outputs": [
        {
          "output_type": "stream",
          "name": "stdout",
          "text": [
            "\n",
            "Dados após remover linhas com valores ausentes:\n",
            "         Data          Cidade  Temperatura Máxima (°C)  \\\n",
            "0  15/01/2025       São Paulo                     30.5   \n",
            "1  15/01/2025  Rio de Janeiro                     35.0   \n",
            "2  15/01/2025        Curitiba                     24.0   \n",
            "3  15/01/2025    Porto Alegre                     28.0   \n",
            "4  15/01/2025        Salvador                     31.0   \n",
            "\n",
            "   Temperatura Mínima (°C)  Amplitude Térmica  Precipitação (mm)  \\\n",
            "0                     22.0                8.5          12.000000   \n",
            "1                     25.0               10.0          11.666667   \n",
            "2                     18.0                6.0           8.000000   \n",
            "3                     20.0                8.0          15.000000   \n",
            "4                     24.5                6.5          11.666667   \n",
            "\n",
            "   Umidade Relativa (%)  \n",
            "0                  78.0  \n",
            "1                  70.0  \n",
            "2                  79.0  \n",
            "3                  82.0  \n",
            "4                  80.0  \n"
          ]
        }
      ]
    },
    {
      "cell_type": "code",
      "source": [
        "# Criar a coluna Amplitude Térmica\n",
        "df[\"Amplitude Térmica\"] = df[\"Temperatura Máxima (°C)\"] - df[\"Temperatura Mínima (°C)\"]\n",
        "\n",
        "# Filtrar cidades com Temperatura Máxima acima de 30°C\n",
        "df_acima_30 = df[df[\"Temperatura Máxima (°C)\"] > 30]\n",
        "\n",
        "print(df_acima_30)"
      ],
      "metadata": {
        "colab": {
          "base_uri": "https://localhost:8080/"
        },
        "id": "Bj_J0hVzbKpj",
        "outputId": "8c69295d-595b-4a3d-dc45-14adb101c4b0"
      },
      "execution_count": 15,
      "outputs": [
        {
          "output_type": "stream",
          "name": "stdout",
          "text": [
            "         Data          Cidade  Temperatura Máxima (°C)  \\\n",
            "0  15/01/2025       São Paulo                     30.5   \n",
            "1  15/01/2025  Rio de Janeiro                     35.0   \n",
            "4  15/01/2025        Salvador                     31.0   \n",
            "\n",
            "   Temperatura Mínima (°C)  Amplitude Térmica  Precipitação (mm)  \\\n",
            "0                     22.0                8.5          12.000000   \n",
            "1                     25.0               10.0          11.666667   \n",
            "4                     24.5                6.5          11.666667   \n",
            "\n",
            "   Umidade Relativa (%)  \n",
            "0                  78.0  \n",
            "1                  70.0  \n",
            "4                  80.0  \n"
          ]
        }
      ]
    },
    {
      "cell_type": "code",
      "source": [
        "# Reordenar colunas\n",
        "df = df[[\"Data\", \"Cidade\", \"Temperatura Máxima (°C)\", \"Temperatura Mínima (°C)\",\n",
        "         \"Amplitude Térmica\", \"Precipitação (mm)\", \"Umidade Relativa (%)\"]]\n",
        "\n",
        "print(df)"
      ],
      "metadata": {
        "colab": {
          "base_uri": "https://localhost:8080/"
        },
        "id": "WZJxI_6Hcm4G",
        "outputId": "30f3543d-61e4-46ae-9be2-39694c7a131c"
      },
      "execution_count": 16,
      "outputs": [
        {
          "output_type": "stream",
          "name": "stdout",
          "text": [
            "         Data          Cidade  Temperatura Máxima (°C)  \\\n",
            "0  15/01/2025       São Paulo                     30.5   \n",
            "1  15/01/2025  Rio de Janeiro                     35.0   \n",
            "2  15/01/2025        Curitiba                     24.0   \n",
            "3  15/01/2025    Porto Alegre                     28.0   \n",
            "4  15/01/2025        Salvador                     31.0   \n",
            "\n",
            "   Temperatura Mínima (°C)  Amplitude Térmica  Precipitação (mm)  \\\n",
            "0                     22.0                8.5          12.000000   \n",
            "1                     25.0               10.0          11.666667   \n",
            "2                     18.0                6.0           8.000000   \n",
            "3                     20.0                8.0          15.000000   \n",
            "4                     24.5                6.5          11.666667   \n",
            "\n",
            "   Umidade Relativa (%)  \n",
            "0                  78.0  \n",
            "1                  70.0  \n",
            "2                  79.0  \n",
            "3                  82.0  \n",
            "4                  80.0  \n"
          ]
        }
      ]
    }
  ]
}