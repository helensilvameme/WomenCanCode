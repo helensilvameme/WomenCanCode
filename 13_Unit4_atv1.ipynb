{
  "nbformat": 4,
  "nbformat_minor": 0,
  "metadata": {
    "colab": {
      "provenance": [],
      "authorship_tag": "ABX9TyPyZSnDbEEBWf1r2BIsSQCd",
      "include_colab_link": true
    },
    "kernelspec": {
      "name": "python3",
      "display_name": "Python 3"
    },
    "language_info": {
      "name": "python"
    }
  },
  "cells": [
    {
      "cell_type": "markdown",
      "metadata": {
        "id": "view-in-github",
        "colab_type": "text"
      },
      "source": [
        "<a href=\"https://colab.research.google.com/github/helensilvameme/WomenCanCode/blob/main/13_Unit4_atv1.ipynb\" target=\"_parent\"><img src=\"https://colab.research.google.com/assets/colab-badge.svg\" alt=\"Open In Colab\"/></a>"
      ]
    },
    {
      "cell_type": "code",
      "execution_count": 1,
      "metadata": {
        "id": "H4Xt4vj24dBh",
        "outputId": "e6d41bd2-a8a6-47a0-f224-046fada24be6",
        "colab": {
          "base_uri": "https://localhost:8080/"
        }
      },
      "outputs": [
        {
          "output_type": "stream",
          "name": "stdout",
          "text": [
            "Erro Quadrático Médio: 539293828.67\n"
          ]
        }
      ],
      "source": [
        "import numpy as np\n",
        "import pandas as pd\n",
        "from sklearn.pipeline import Pipeline\n",
        "from sklearn.compose import ColumnTransformer\n",
        "from sklearn.preprocessing import OneHotEncoder, StandardScaler\n",
        "from sklearn.linear_model import LinearRegression\n",
        "from sklearn.metrics import mean_squared_error\n",
        "from sklearn.model_selection import train_test_split\n",
        "\n",
        "# Criando um conjunto de dados fictício\n",
        "data = pd.DataFrame({\n",
        "    'Combustível': np.random.choice(['Gasolina', 'Diesel', 'Etanol'], 100),\n",
        "    'Idade': np.random.randint(1, 15, 100),\n",
        "    'Quilometragem': np.random.randint(5000, 200000, 100),\n",
        "    'Preço': np.random.randint(20000, 100000, 100)\n",
        "})\n",
        "\n",
        "# Separando as variáveis preditoras e alvo\n",
        "X = data[['Combustível', 'Idade', 'Quilometragem']]\n",
        "y = data['Preço']\n",
        "\n",
        "# Dividindo os dados em treino e teste\n",
        "X_train, X_test, y_train, y_test = train_test_split(X, y, test_size=0.2, random_state=42)\n",
        "\n",
        "# Criando o pipeline de pré-processamento\n",
        "preprocessor = ColumnTransformer([\n",
        "    ('cat', OneHotEncoder(), ['Combustível']),\n",
        "    ('num', StandardScaler(), ['Idade', 'Quilometragem'])\n",
        "])\n",
        "\n",
        "# Criando o pipeline completo\n",
        "pipeline = Pipeline([\n",
        "    ('preprocessor', preprocessor),\n",
        "    ('model', LinearRegression())\n",
        "])\n",
        "\n",
        "# Treinando o modelo\n",
        "pipeline.fit(X_train, y_train)\n",
        "\n",
        "# Fazendo previsões\n",
        "y_pred = pipeline.predict(X_test)\n",
        "\n",
        "# Avaliando o modelo com o Erro Quadrático Médio (MSE)\n",
        "mse = mean_squared_error(y_test, y_pred)\n",
        "print(f\"Erro Quadrático Médio: {mse:.2f}\")\n"
      ]
    }
  ]
}